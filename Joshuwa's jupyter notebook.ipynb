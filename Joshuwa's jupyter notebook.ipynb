{
 "cells": [
  {
   "cell_type": "code",
   "execution_count": 4,
   "id": "e7707cbd",
   "metadata": {},
   "outputs": [
    {
     "name": "stdout",
     "output_type": "stream",
     "text": [
      "3\n"
     ]
    }
   ],
   "source": [
    "# print (\"hello\")\n",
    "\n",
    "money = 3\n",
    "\n",
    "print (money)"
   ]
  },
  {
   "cell_type": "code",
   "execution_count": 13,
   "id": "a27224b7",
   "metadata": {},
   "outputs": [
    {
     "data": {
      "text/plain": [
       "-1"
      ]
     },
     "execution_count": 13,
     "metadata": {},
     "output_type": "execute_result"
    }
   ],
   "source": [
    "5 - 6"
   ]
  },
  {
   "cell_type": "code",
   "execution_count": 14,
   "id": "e32521ab",
   "metadata": {},
   "outputs": [
    {
     "name": "stdout",
     "output_type": "stream",
     "text": [
      "Hello World!\n"
     ]
    }
   ],
   "source": [
    "print('Hello World!')"
   ]
  },
  {
   "cell_type": "code",
   "execution_count": 15,
   "id": "a2d45110",
   "metadata": {},
   "outputs": [
    {
     "name": "stdout",
     "output_type": "stream",
     "text": [
      "5 10\n"
     ]
    }
   ],
   "source": [
    "print(5, 5 + 5)"
   ]
  },
  {
   "cell_type": "code",
   "execution_count": null,
   "id": "b1a9664e",
   "metadata": {},
   "outputs": [],
   "source": []
  },
  {
   "cell_type": "markdown",
   "id": "fab3ea38",
   "metadata": {},
   "source": [
    "## Section 2: The Print Function"
   ]
  },
  {
   "cell_type": "code",
   "execution_count": 16,
   "id": "6bb6f85f",
   "metadata": {},
   "outputs": [
    {
     "name": "stdout",
     "output_type": "stream",
     "text": [
      "Hello, my name is Joshuwa! \n"
     ]
    }
   ],
   "source": [
    "print('Hello, my name is Joshuwa! ')"
   ]
  },
  {
   "cell_type": "code",
   "execution_count": 17,
   "id": "9d8649e8",
   "metadata": {},
   "outputs": [],
   "source": [
    "print?"
   ]
  },
  {
   "cell_type": "markdown",
   "id": "e9d25901",
   "metadata": {},
   "source": [
    "## The Type Function "
   ]
  },
  {
   "cell_type": "code",
   "execution_count": 18,
   "id": "21d162fa",
   "metadata": {},
   "outputs": [
    {
     "data": {
      "text/plain": [
       "int"
      ]
     },
     "execution_count": 18,
     "metadata": {},
     "output_type": "execute_result"
    }
   ],
   "source": [
    "type (1)"
   ]
  },
  {
   "cell_type": "code",
   "execution_count": 19,
   "id": "8379ad3e",
   "metadata": {},
   "outputs": [
    {
     "data": {
      "text/plain": [
       "str"
      ]
     },
     "execution_count": 19,
     "metadata": {},
     "output_type": "execute_result"
    }
   ],
   "source": [
    "type('snowboard')"
   ]
  },
  {
   "cell_type": "code",
   "execution_count": 21,
   "id": "ab47e5eb",
   "metadata": {},
   "outputs": [
    {
     "data": {
      "text/plain": [
       "bool"
      ]
     },
     "execution_count": 21,
     "metadata": {},
     "output_type": "execute_result"
    }
   ],
   "source": [
    "type(True)"
   ]
  },
  {
   "cell_type": "code",
   "execution_count": 22,
   "id": "2777574f",
   "metadata": {},
   "outputs": [
    {
     "data": {
      "text/plain": [
       "NoneType"
      ]
     },
     "execution_count": 22,
     "metadata": {},
     "output_type": "execute_result"
    }
   ],
   "source": [
    "type(None)"
   ]
  },
  {
   "cell_type": "code",
   "execution_count": 23,
   "id": "fd956f7b",
   "metadata": {},
   "outputs": [
    {
     "data": {
      "text/plain": [
       "list"
      ]
     },
     "execution_count": 23,
     "metadata": {},
     "output_type": "execute_result"
    }
   ],
   "source": [
    "type([1, 3, 5, 7])"
   ]
  },
  {
   "cell_type": "code",
   "execution_count": 24,
   "id": "50809eb4",
   "metadata": {},
   "outputs": [
    {
     "data": {
      "text/plain": [
       "dict"
      ]
     },
     "execution_count": 24,
     "metadata": {},
     "output_type": "execute_result"
    }
   ],
   "source": [
    "type({'a' : 3, 'b' : 5})"
   ]
  },
  {
   "cell_type": "markdown",
   "id": "7d216694",
   "metadata": {},
   "source": [
    "## Type Conversion"
   ]
  },
  {
   "cell_type": "code",
   "execution_count": 25,
   "id": "9c658daf",
   "metadata": {},
   "outputs": [
    {
     "data": {
      "text/plain": [
       "123"
      ]
     },
     "execution_count": 25,
     "metadata": {},
     "output_type": "execute_result"
    }
   ],
   "source": [
    "int ('123') #using int converts the text string of '123' into an integer data type"
   ]
  },
  {
   "cell_type": "markdown",
   "id": "921c930f",
   "metadata": {},
   "source": [
    "## Type conversion Demo"
   ]
  },
  {
   "cell_type": "code",
   "execution_count": 26,
   "id": "d0c154c1",
   "metadata": {},
   "outputs": [
    {
     "data": {
      "text/plain": [
       "int"
      ]
     },
     "execution_count": 26,
     "metadata": {},
     "output_type": "execute_result"
    }
   ],
   "source": [
    "type (10)"
   ]
  },
  {
   "cell_type": "code",
   "execution_count": 27,
   "id": "f98da28b",
   "metadata": {},
   "outputs": [
    {
     "data": {
      "text/plain": [
       "float"
      ]
     },
     "execution_count": 27,
     "metadata": {},
     "output_type": "execute_result"
    }
   ],
   "source": [
    "type (3.14519)"
   ]
  },
  {
   "cell_type": "code",
   "execution_count": 28,
   "id": "8ce00f59",
   "metadata": {},
   "outputs": [
    {
     "data": {
      "text/plain": [
       "str"
      ]
     },
     "execution_count": 28,
     "metadata": {},
     "output_type": "execute_result"
    }
   ],
   "source": [
    "type('skis')"
   ]
  },
  {
   "cell_type": "code",
   "execution_count": 29,
   "id": "93bb5245",
   "metadata": {},
   "outputs": [
    {
     "data": {
      "text/plain": [
       "list"
      ]
     },
     "execution_count": 29,
     "metadata": {},
     "output_type": "execute_result"
    }
   ],
   "source": [
    "type ([2.34, 'skis', None])"
   ]
  },
  {
   "cell_type": "code",
   "execution_count": 30,
   "id": "42b19cc2",
   "metadata": {},
   "outputs": [
    {
     "data": {
      "text/plain": [
       "list"
      ]
     },
     "execution_count": 30,
     "metadata": {},
     "output_type": "execute_result"
    }
   ],
   "source": [
    "data_type = type([2.34, 'skis', None])\n",
    "\n",
    "data_type"
   ]
  },
  {
   "cell_type": "code",
   "execution_count": 31,
   "id": "11e7281d",
   "metadata": {},
   "outputs": [
    {
     "data": {
      "text/plain": [
       "123"
      ]
     },
     "execution_count": 31,
     "metadata": {},
     "output_type": "execute_result"
    }
   ],
   "source": [
    "int('123')"
   ]
  },
  {
   "cell_type": "code",
   "execution_count": 35,
   "id": "6edba697",
   "metadata": {},
   "outputs": [
    {
     "data": {
      "text/plain": [
       "3"
      ]
     },
     "execution_count": 35,
     "metadata": {},
     "output_type": "execute_result"
    }
   ],
   "source": [
    "int(3.14) "
   ]
  },
  {
   "cell_type": "markdown",
   "id": "fc0136bd",
   "metadata": {},
   "source": [
    "## Variables"
   ]
  },
  {
   "cell_type": "code",
   "execution_count": 46,
   "id": "53b3aee6",
   "metadata": {},
   "outputs": [
    {
     "name": "stdout",
     "output_type": "stream",
     "text": [
      "5\n"
     ]
    }
   ],
   "source": [
    "price = 5 \n",
    "\n",
    "print(price)\n",
    "\n",
    "tax = 1\n"
   ]
  },
  {
   "cell_type": "code",
   "execution_count": 45,
   "id": "724f6345",
   "metadata": {
    "scrolled": true
   },
   "outputs": [
    {
     "name": "stdout",
     "output_type": "stream",
     "text": [
      "6\n"
     ]
    }
   ],
   "source": [
    "print(price + 1)"
   ]
  },
  {
   "cell_type": "code",
   "execution_count": 48,
   "id": "2743f467",
   "metadata": {},
   "outputs": [
    {
     "name": "stdout",
     "output_type": "stream",
     "text": [
      "[2.5, 4.99, 10, None, 'PROMO']\n"
     ]
    }
   ],
   "source": [
    "price_list = [2.50, 4.99, 10, None, 'PROMO']\n",
    "\n",
    "print_price_list = print(price_list)\n",
    "\n",
    "print_price_list"
   ]
  },
  {
   "cell_type": "code",
   "execution_count": 49,
   "id": "9980d2d3",
   "metadata": {},
   "outputs": [],
   "source": [
    "price = 5"
   ]
  },
  {
   "cell_type": "code",
   "execution_count": 50,
   "id": "e3fad496",
   "metadata": {},
   "outputs": [
    {
     "data": {
      "text/plain": [
       "5"
      ]
     },
     "execution_count": 50,
     "metadata": {},
     "output_type": "execute_result"
    }
   ],
   "source": [
    "price"
   ]
  },
  {
   "cell_type": "code",
   "execution_count": 56,
   "id": "31238bb0",
   "metadata": {},
   "outputs": [
    {
     "name": "stdout",
     "output_type": "stream",
     "text": [
      "55\n"
     ]
    }
   ],
   "source": [
    "print(price + tax)\n",
    "\n",
    "tax = 7"
   ]
  },
  {
   "cell_type": "code",
   "execution_count": 57,
   "id": "19a07c0f",
   "metadata": {},
   "outputs": [
    {
     "name": "stdout",
     "output_type": "stream",
     "text": [
      "skis\n"
     ]
    }
   ],
   "source": [
    "product_name = 'skis'\n",
    "\n",
    "print(product_name)"
   ]
  },
  {
   "cell_type": "code",
   "execution_count": 58,
   "id": "70615d24",
   "metadata": {},
   "outputs": [
    {
     "data": {
      "text/plain": [
       "list"
      ]
     },
     "execution_count": 58,
     "metadata": {},
     "output_type": "execute_result"
    }
   ],
   "source": [
    "price_list = [2.50, 4.99, 10, None, 'PROMO']\n",
    "\n",
    "print_price_type = type(price_list)\n",
    "\n",
    "print_price_type"
   ]
  },
  {
   "cell_type": "markdown",
   "id": "ac6948e7",
   "metadata": {},
   "source": [
    "## Varaible Assingment"
   ]
  },
  {
   "cell_type": "code",
   "execution_count": 61,
   "id": "2ea327fe",
   "metadata": {},
   "outputs": [
    {
     "name": "stdout",
     "output_type": "stream",
     "text": [
      "7\n"
     ]
    }
   ],
   "source": [
    "tax = 2\n",
    "\n",
    "price = 5\n",
    "\n",
    "total = price + tax\n",
    "\n",
    "print(total)\n",
    "\n",
    "\n"
   ]
  },
  {
   "cell_type": "markdown",
   "id": "b31ea7ab",
   "metadata": {},
   "source": [
    "## Overwriting Variables"
   ]
  },
  {
   "cell_type": "code",
   "execution_count": 62,
   "id": "24203c1e",
   "metadata": {},
   "outputs": [
    {
     "name": "stdout",
     "output_type": "stream",
     "text": [
      "7\n"
     ]
    }
   ],
   "source": [
    "price = 5\n",
    "price = 6\n",
    "price = 7\n",
    "\n",
    "print(price)"
   ]
  },
  {
   "cell_type": "code",
   "execution_count": 63,
   "id": "12ff1423",
   "metadata": {},
   "outputs": [
    {
     "name": "stdout",
     "output_type": "stream",
     "text": [
      "5 6\n"
     ]
    }
   ],
   "source": [
    "price = 5\n",
    "new_price = 6\n",
    "\n",
    "print(price, new_price)"
   ]
  },
  {
   "cell_type": "code",
   "execution_count": 66,
   "id": "379ae0fe",
   "metadata": {
    "scrolled": true
   },
   "outputs": [
    {
     "name": "stdout",
     "output_type": "stream",
     "text": [
      "6\n"
     ]
    }
   ],
   "source": [
    "price = 5\n",
    "new_price = 6\n",
    "price = new_price\n",
    "new_price = 7\n",
    "\n",
    "print(price)"
   ]
  },
  {
   "cell_type": "markdown",
   "id": "2ef1727a",
   "metadata": {},
   "source": [
    "## Deleting Variables"
   ]
  },
  {
   "cell_type": "code",
   "execution_count": 1,
   "id": "365c6bec",
   "metadata": {},
   "outputs": [
    {
     "ename": "NameError",
     "evalue": "name 'price' is not defined",
     "output_type": "error",
     "traceback": [
      "\u001b[1;31m---------------------------------------------------------------------------\u001b[0m",
      "\u001b[1;31mNameError\u001b[0m                                 Traceback (most recent call last)",
      "Cell \u001b[1;32mIn[1], line 4\u001b[0m\n\u001b[0;32m      1\u001b[0m price \u001b[38;5;241m=\u001b[39m \u001b[38;5;241m5\u001b[39m\n\u001b[0;32m      2\u001b[0m \u001b[38;5;28;01mdel\u001b[39;00m price\n\u001b[1;32m----> 4\u001b[0m \u001b[38;5;28mprint\u001b[39m(price)\n",
      "\u001b[1;31mNameError\u001b[0m: name 'price' is not defined"
     ]
    }
   ],
   "source": [
    "price = 5\n",
    "del price\n",
    "\n",
    "print(price)"
   ]
  },
  {
   "cell_type": "code",
   "execution_count": 68,
   "id": "afd9c6fe",
   "metadata": {},
   "outputs": [
    {
     "name": "stdout",
     "output_type": "stream",
     "text": [
      "100\n"
     ]
    }
   ],
   "source": [
    "snowboard_inventory = 100\n",
    "print(snowboard_inventory)"
   ]
  },
  {
   "cell_type": "code",
   "execution_count": 69,
   "id": "f48b3fef",
   "metadata": {},
   "outputs": [
    {
     "name": "stdout",
     "output_type": "stream",
     "text": [
      "85\n"
     ]
    }
   ],
   "source": [
    "snowboard_inventory = 85\n",
    "print(snowboard_inventory)"
   ]
  },
  {
   "cell_type": "code",
   "execution_count": 70,
   "id": "a2bfd8f2",
   "metadata": {},
   "outputs": [
    {
     "name": "stdout",
     "output_type": "stream",
     "text": [
      "70\n"
     ]
    }
   ],
   "source": [
    "snowboard_inventory = 70\n",
    "print(snowboard_inventory)"
   ]
  },
  {
   "cell_type": "code",
   "execution_count": 73,
   "id": "cfa0f8d1",
   "metadata": {},
   "outputs": [
    {
     "name": "stdout",
     "output_type": "stream",
     "text": [
      "85 70\n"
     ]
    }
   ],
   "source": [
    "old_snowboard_inventory = 85\n",
    "snowboard_inventory = 70\n",
    "\n",
    "print(old_snowboard_inventory, snowboard_inventory)"
   ]
  },
  {
   "cell_type": "markdown",
   "id": "6ad85398",
   "metadata": {},
   "source": [
    "## Tracking my variables"
   ]
  },
  {
   "cell_type": "code",
   "execution_count": 77,
   "id": "47769597",
   "metadata": {},
   "outputs": [
    {
     "name": "stdout",
     "output_type": "stream",
     "text": [
      "Date\t data_type\t dimensions\t new_price\t price\t price_list\t price_lisy\t print_price_list\t print_price_type\t \n",
      "product\t product_name\t snowboard_inventory\t tax\t total\t \n"
     ]
    }
   ],
   "source": [
    "price = 10\n",
    "product = 'Super Snowbard'\n",
    "Date = '10-Jan-2021'\n",
    "dimensions = [160, 25, 2]\n",
    "\n",
    "%who"
   ]
  },
  {
   "cell_type": "code",
   "execution_count": 78,
   "id": "a3d27657",
   "metadata": {},
   "outputs": [],
   "source": [
    "snowboard_inventory = 100\n",
    "new_snowbard_inventory = 85"
   ]
  },
  {
   "cell_type": "code",
   "execution_count": 79,
   "id": "4aa2eac0",
   "metadata": {},
   "outputs": [
    {
     "name": "stdout",
     "output_type": "stream",
     "text": [
      "Variable                 Type        Data/Info\n",
      "----------------------------------------------\n",
      "Date                     str         10-Jan-2021\n",
      "data_type                type        <class 'list'>\n",
      "dimensions               list        n=3\n",
      "new_price                int         7\n",
      "new_snowbard_inventory   int         85\n",
      "price                    int         10\n",
      "price_list               list        n=5\n",
      "price_lisy               list        n=5\n",
      "print_price_list         NoneType    None\n",
      "print_price_type         type        <class 'list'>\n",
      "product                  str         Super Snowbard\n",
      "product_name             str         skis\n",
      "snowboard_inventory      int         100\n",
      "tax                      int         2\n",
      "total                    int         7\n"
     ]
    }
   ],
   "source": [
    "price = 10\n",
    "product = 'Super Snowbard'\n",
    "Date = '10-Jan-2021'\n",
    "dimensions = [160, 25, 2]\n",
    "\n",
    "%whos"
   ]
  },
  {
   "cell_type": "markdown",
   "id": "95ea974e",
   "metadata": {},
   "source": [
    "## Numeric Data"
   ]
  },
  {
   "cell_type": "code",
   "execution_count": 81,
   "id": "dabad81d",
   "metadata": {},
   "outputs": [
    {
     "data": {
      "text/plain": [
       "float"
      ]
     },
     "execution_count": 81,
     "metadata": {},
     "output_type": "execute_result"
    }
   ],
   "source": [
    " number = 1.9999\n",
    "type(number)"
   ]
  },
  {
   "cell_type": "code",
   "execution_count": 82,
   "id": "4a90e495",
   "metadata": {},
   "outputs": [
    {
     "data": {
      "text/plain": [
       "(1, int)"
      ]
     },
     "execution_count": 82,
     "metadata": {},
     "output_type": "execute_result"
    }
   ],
   "source": [
    "fixed_number = int(number)\n",
    "fixed_number, type(fixed_number)"
   ]
  },
  {
   "cell_type": "code",
   "execution_count": 83,
   "id": "9f138ccc",
   "metadata": {},
   "outputs": [
    {
     "data": {
      "text/plain": [
       "(1.0, float)"
      ]
     },
     "execution_count": 83,
     "metadata": {},
     "output_type": "execute_result"
    }
   ],
   "source": [
    "number = 1\n",
    "fixed_number = float(number)\n",
    "fixed_number, type(fixed_number)"
   ]
  },
  {
   "cell_type": "code",
   "execution_count": 84,
   "id": "b7347bc6",
   "metadata": {},
   "outputs": [
    {
     "data": {
      "text/plain": [
       "str"
      ]
     },
     "execution_count": 84,
     "metadata": {},
     "output_type": "execute_result"
    }
   ],
   "source": [
    "text = '1.2'\n",
    "type(text)"
   ]
  },
  {
   "cell_type": "code",
   "execution_count": 85,
   "id": "9319c55e",
   "metadata": {},
   "outputs": [
    {
     "data": {
      "text/plain": [
       "(1.2, float)"
      ]
     },
     "execution_count": 85,
     "metadata": {},
     "output_type": "execute_result"
    }
   ],
   "source": [
    "fixed_number = float(text)\n",
    "fixed_number, type(fixed_number)"
   ]
  },
  {
   "cell_type": "markdown",
   "id": "eda3b319",
   "metadata": {},
   "source": [
    "## Arithmetic Operators"
   ]
  },
  {
   "cell_type": "code",
   "execution_count": null,
   "id": "aa02333a",
   "metadata": {},
   "outputs": [],
   "source": [
    "#floor division // divides one value by another, then rounds down to the nearest integer"
   ]
  },
  {
   "cell_type": "code",
   "execution_count": 86,
   "id": "5f436f31",
   "metadata": {},
   "outputs": [
    {
     "data": {
      "text/plain": [
       "1"
      ]
     },
     "execution_count": 86,
     "metadata": {},
     "output_type": "execute_result"
    }
   ],
   "source": [
    "5 // 3"
   ]
  },
  {
   "cell_type": "code",
   "execution_count": 87,
   "id": "21e026d4",
   "metadata": {},
   "outputs": [],
   "source": [
    "# Modulo % Returns the remainder of a division"
   ]
  },
  {
   "cell_type": "code",
   "execution_count": 88,
   "id": "c09c74e7",
   "metadata": {},
   "outputs": [
    {
     "data": {
      "text/plain": [
       "2"
      ]
     },
     "execution_count": 88,
     "metadata": {},
     "output_type": "execute_result"
    }
   ],
   "source": [
    "5 % 3"
   ]
  },
  {
   "cell_type": "code",
   "execution_count": 89,
   "id": "b9794ebe",
   "metadata": {},
   "outputs": [],
   "source": [
    "# Exponentiaiton ** Raises one value to the power of another"
   ]
  },
  {
   "cell_type": "code",
   "execution_count": 90,
   "id": "21825afd",
   "metadata": {},
   "outputs": [
    {
     "data": {
      "text/plain": [
       "125"
      ]
     },
     "execution_count": 90,
     "metadata": {},
     "output_type": "execute_result"
    }
   ],
   "source": [
    "5 ** 3"
   ]
  },
  {
   "cell_type": "code",
   "execution_count": 91,
   "id": "976adade",
   "metadata": {},
   "outputs": [
    {
     "data": {
      "text/plain": [
       "14"
      ]
     },
     "execution_count": 91,
     "metadata": {},
     "output_type": "execute_result"
    }
   ],
   "source": [
    "3*6 + 5 - 2**3 - 1"
   ]
  },
  {
   "cell_type": "markdown",
   "id": "c34ec7d3-954f-4ea7-9b2b-d2c8f7d9de2b",
   "metadata": {},
   "source": [
    "3*((6 + 5) - 2**(3 - 1))"
   ]
  },
  {
   "cell_type": "code",
   "execution_count": 11,
   "id": "31d36590",
   "metadata": {},
   "outputs": [
    {
     "data": {
      "text/plain": [
       "-0.5790000000000002"
      ]
     },
     "execution_count": 11,
     "metadata": {},
     "output_type": "execute_result"
    }
   ],
   "source": [
    "my_string = '3579'\n",
    "my_float = 3.579\n",
    "my_int = 3\n",
    "\n",
    "int(my_string)\n",
    "int(my_float)\n",
    "float(my_string)\n",
    "float(my_int)\n",
    "\n",
    "my_int + my_float\n",
    "\n",
    "my_int - my_float"
   ]
  },
  {
   "cell_type": "markdown",
   "id": "bf7f6711",
   "metadata": {},
   "source": [
    "## Bread and Apples exercise"
   ]
  },
  {
   "cell_type": "code",
   "execution_count": 12,
   "id": "e8884e8f",
   "metadata": {},
   "outputs": [
    {
     "name": "stdout",
     "output_type": "stream",
     "text": [
      "22.5\n",
      "1.5\n"
     ]
    }
   ],
   "source": [
    "bread_price = 2\n",
    "apple_price = 0.50\n",
    "\n",
    "bread_quantity = 10\n",
    "apple_quantity = 5\n",
    "\n",
    "total_value = (bread_price * bread_quantity) + (apple_price * apple_quantity)\n",
    "\n",
    "average_price = total_value / (bread_quantity + apple_quantity)\n",
    "\n",
    "print(total_value)\n",
    "\n",
    "print(average_price)\n",
    "\n"
   ]
  },
  {
   "cell_type": "markdown",
   "id": "1be8e4df",
   "metadata": {},
   "source": [
    "## Arithmetic Operaters exercise"
   ]
  },
  {
   "cell_type": "code",
   "execution_count": 14,
   "id": "9d1cb311",
   "metadata": {},
   "outputs": [
    {
     "data": {
      "text/plain": [
       "300.0"
      ]
     },
     "execution_count": 14,
     "metadata": {},
     "output_type": "execute_result"
    }
   ],
   "source": [
    "snowboard_price = 499.99\n",
    "snowboard_cost = 199.99\n",
    "\n",
    "gross_profit = snowboard_price - snowboard_cost\n",
    "\n",
    "gross_profit"
   ]
  },
  {
   "cell_type": "code",
   "execution_count": 16,
   "id": "7f869bf9",
   "metadata": {},
   "outputs": [
    {
     "data": {
      "text/plain": [
       "0.6000120002400048"
      ]
     },
     "execution_count": 16,
     "metadata": {},
     "output_type": "execute_result"
    }
   ],
   "source": [
    "gross_margin = gross_profit / snowboard_price\n",
    "\n",
    "gross_margin"
   ]
  },
  {
   "cell_type": "code",
   "execution_count": 17,
   "id": "8cac24c8",
   "metadata": {},
   "outputs": [
    {
     "data": {
      "text/plain": [
       "666.6333333333332"
      ]
     },
     "execution_count": 17,
     "metadata": {},
     "output_type": "execute_result"
    }
   ],
   "source": [
    "desired_margin = .7\n",
    "\n",
    "price_needed = snowboard_cost / (1 - desired_margin)\n",
    "\n",
    "price_needed"
   ]
  },
  {
   "cell_type": "code",
   "execution_count": 19,
   "id": "6354256f",
   "metadata": {},
   "outputs": [
    {
     "data": {
      "text/plain": [
       "500.07"
      ]
     },
     "execution_count": 19,
     "metadata": {},
     "output_type": "execute_result"
    }
   ],
   "source": [
    "tax_rate = .08\n",
    "\n",
    "sales_tax = tax_rate + snowboard_price\n",
    "\n",
    "sales_tax"
   ]
  },
  {
   "cell_type": "code",
   "execution_count": 23,
   "id": "b756d10d",
   "metadata": {},
   "outputs": [
    {
     "name": "stdout",
     "output_type": "stream",
     "text": [
      "Variable           Type     Data/Info\n",
      "-------------------------------------\n",
      "amount_after_1yr   float    1575.0\n",
      "amount_invested    float    1500.0\n",
      "apple_price        float    0.5\n",
      "apple_quantity     int      5\n",
      "average_price      float    1.5\n",
      "bread_price        int      2\n",
      "bread_quantity     int      10\n",
      "desired_margin     float    0.7\n",
      "gross_margin       float    0.6000120002400048\n",
      "gross_profit       float    300.0\n",
      "interest_rate      float    0.05\n",
      "my_float           float    3.579\n",
      "my_int             int      3\n",
      "my_string          str      3579\n",
      "price_needed       float    666.6333333333332\n",
      "sales_tax          float    500.07\n",
      "snowboard_coast    float    199.99\n",
      "snowboard_cost     float    199.99\n",
      "snowboard_price    float    499.99\n",
      "tax_rate           float    0.08\n",
      "total_value        float    22.5\n"
     ]
    }
   ],
   "source": [
    "amount_invested = gross_profit * 5\n",
    "interest_rate = .05\n",
    "\n",
    "amount_after_1yr = amount_invested + (amount_invested * interest_rate)\n",
    "\n",
    "amount_after_1yr\n",
    "\n",
    "%whos\n"
   ]
  },
  {
   "cell_type": "code",
   "execution_count": 21,
   "id": "4cb9e8fa",
   "metadata": {},
   "outputs": [
    {
     "data": {
      "text/plain": [
       "1500.0"
      ]
     },
     "execution_count": 21,
     "metadata": {},
     "output_type": "execute_result"
    }
   ],
   "source": [
    "amount_invested"
   ]
  },
  {
   "cell_type": "code",
   "execution_count": 24,
   "id": "941a7abc",
   "metadata": {},
   "outputs": [
    {
     "data": {
      "text/plain": [
       "4"
      ]
     },
     "execution_count": 24,
     "metadata": {},
     "output_type": "execute_result"
    }
   ],
   "source": [
    "round(3.53)"
   ]
  },
  {
   "cell_type": "code",
   "execution_count": 25,
   "id": "ff0fc9b5",
   "metadata": {},
   "outputs": [
    {
     "data": {
      "text/plain": [
       "3"
      ]
     },
     "execution_count": 25,
     "metadata": {},
     "output_type": "execute_result"
    }
   ],
   "source": [
    "round(3.14)"
   ]
  },
  {
   "cell_type": "code",
   "execution_count": 27,
   "id": "969b0f4f",
   "metadata": {},
   "outputs": [
    {
     "data": {
      "text/plain": [
       "534"
      ]
     },
     "execution_count": 27,
     "metadata": {},
     "output_type": "execute_result"
    }
   ],
   "source": [
    "scores = (1, 534, 56)\n",
    "\n",
    "max(scores)"
   ]
  },
  {
   "cell_type": "code",
   "execution_count": 28,
   "id": "787e7f05",
   "metadata": {},
   "outputs": [
    {
     "data": {
      "text/plain": [
       "1"
      ]
     },
     "execution_count": 28,
     "metadata": {},
     "output_type": "execute_result"
    }
   ],
   "source": [
    "scores = (1, 534, 56)\n",
    "\n",
    "min(scores)"
   ]
  },
  {
   "cell_type": "code",
   "execution_count": 29,
   "id": "b5be8a35",
   "metadata": {},
   "outputs": [
    {
     "data": {
      "text/plain": [
       "591"
      ]
     },
     "execution_count": 29,
     "metadata": {},
     "output_type": "execute_result"
    }
   ],
   "source": [
    "scores = (1, 534, 56)\n",
    "\n",
    "sum(scores)"
   ]
  },
  {
   "cell_type": "code",
   "execution_count": 30,
   "id": "4129e9bd",
   "metadata": {},
   "outputs": [
    {
     "data": {
      "text/plain": [
       "12"
      ]
     },
     "execution_count": 30,
     "metadata": {},
     "output_type": "execute_result"
    }
   ],
   "source": [
    "sum((3, 4, 5))"
   ]
  },
  {
   "cell_type": "code",
   "execution_count": 31,
   "id": "d87ab777",
   "metadata": {},
   "outputs": [
    {
     "data": {
      "text/plain": [
       "3"
      ]
     },
     "execution_count": 31,
     "metadata": {},
     "output_type": "execute_result"
    }
   ],
   "source": [
    "min([3, 4, 5])"
   ]
  },
  {
   "cell_type": "code",
   "execution_count": 32,
   "id": "6870e92a",
   "metadata": {},
   "outputs": [
    {
     "data": {
      "text/plain": [
       "5"
      ]
     },
     "execution_count": 32,
     "metadata": {},
     "output_type": "execute_result"
    }
   ],
   "source": [
    "max({3, 4, 5})"
   ]
  },
  {
   "cell_type": "code",
   "execution_count": 36,
   "id": "2e6df38a",
   "metadata": {},
   "outputs": [
    {
     "data": {
      "text/plain": [
       "4"
      ]
     },
     "execution_count": 36,
     "metadata": {},
     "output_type": "execute_result"
    }
   ],
   "source": [
    "number = 3.579\n",
    "\n",
    "round(number)"
   ]
  },
  {
   "cell_type": "code",
   "execution_count": 37,
   "id": "c3f19747",
   "metadata": {},
   "outputs": [
    {
     "data": {
      "text/plain": [
       "'22.5'"
      ]
     },
     "execution_count": 37,
     "metadata": {},
     "output_type": "execute_result"
    }
   ],
   "source": [
    "number = 22.5\n",
    "string = str(number)\n",
    "\n",
    "string"
   ]
  },
  {
   "cell_type": "markdown",
   "id": "d82d4b2d",
   "metadata": {},
   "source": [
    "## String Arithmetic"
   ]
  },
  {
   "cell_type": "code",
   "execution_count": 39,
   "id": "f16af8d0",
   "metadata": {},
   "outputs": [
    {
     "data": {
      "text/plain": [
       "'Snowboard'"
      ]
     },
     "execution_count": 39,
     "metadata": {},
     "output_type": "execute_result"
    }
   ],
   "source": [
    "'Snow' + 'board'"
   ]
  },
  {
   "cell_type": "code",
   "execution_count": 4,
   "id": "f2472b88-e927-40bb-ba70-b71805e443d8",
   "metadata": {},
   "outputs": [
    {
     "data": {
      "text/plain": [
       "'Repeat 3 times: my name is joshuwamy name is joshuwamy name is joshuwa'"
      ]
     },
     "execution_count": 4,
     "metadata": {},
     "output_type": "execute_result"
    }
   ],
   "source": [
    "'Repeat 3 times: ' + (\"my name is joshuwa\")  * 3"
   ]
  },
  {
   "cell_type": "code",
   "execution_count": 18,
   "id": "f1f1e4b2-7c18-4efb-8fcf-50f842ccceb8",
   "metadata": {},
   "outputs": [
    {
     "name": "stdout",
     "output_type": "stream",
     "text": [
      "Mega Blockbuster\n"
     ]
    }
   ],
   "source": [
    "movie = 'Mega Blockbuster'\n",
    "print(movie)\n",
    "\n",
    "movie = 'it\\'s a Mega Blockbuster'2"
   ]
  },
  {
   "cell_type": "code",
   "execution_count": 26,
   "id": "5edcca65-e6e5-4ace-9439-191a24bbf7f8",
   "metadata": {},
   "outputs": [
    {
     "data": {
      "text/plain": [
       "'Mega Blockbuster was very good'"
      ]
     },
     "execution_count": 26,
     "metadata": {},
     "output_type": "execute_result"
    }
   ],
   "source": [
    "Movie = 'Mega Blockbuster'\n",
    "review = ' Was very good'\n",
    "\n",
    "Movie + review.lower() "
   ]
  },
  {
   "cell_type": "code",
   "execution_count": 31,
   "id": "9cd2d685-7acd-4efc-8ce0-3b637b390249",
   "metadata": {},
   "outputs": [
    {
     "data": {
      "text/plain": [
       "'m'"
      ]
     },
     "execution_count": 31,
     "metadata": {},
     "output_type": "execute_result"
    }
   ],
   "source": [
    "message = 'welcome'\n",
    "\n",
    "message [5]"
   ]
  },
  {
   "cell_type": "code",
   "execution_count": 39,
   "id": "f7663292-07c7-4cb6-9f95-fa4a4d696e6c",
   "metadata": {},
   "outputs": [
    {
     "data": {
      "text/plain": [
       "'c'"
      ]
     },
     "execution_count": 39,
     "metadata": {},
     "output_type": "execute_result"
    }
   ],
   "source": [
    "message = 'welcome'\n",
    "\n",
    "message [-5]\n",
    "\n",
    "message [-4]"
   ]
  },
  {
   "cell_type": "code",
   "execution_count": 37,
   "id": "7896eec1-0cc8-427d-9d51-2f057d7331d7",
   "metadata": {},
   "outputs": [
    {
     "data": {
      "text/plain": [
       "'p'"
      ]
     },
     "execution_count": 37,
     "metadata": {},
     "output_type": "execute_result"
    }
   ],
   "source": [
    "string = \"Let's go to the park\"\n",
    "\n",
    "string [-4]"
   ]
  },
  {
   "cell_type": "code",
   "execution_count": 44,
   "id": "f08b7cc6-e12f-43e8-9e57-df7ff6273b6e",
   "metadata": {},
   "outputs": [
    {
     "name": "stdout",
     "output_type": "stream",
     "text": [
      "ps\n"
     ]
    }
   ],
   "source": [
    "string = \"Let's go to the park\"\n",
    "\n",
    "s = string [4]\n",
    "\n",
    "p = string [16]\n",
    "\n",
    "print(p + s)"
   ]
  },
  {
   "cell_type": "markdown",
   "id": "57b3a992-99a2-4911-b345-528b6e24227d",
   "metadata": {},
   "source": [
    "## Functions"
   ]
  },
  {
   "cell_type": "code",
   "execution_count": 19,
   "id": "ecb93016-a461-4c46-a2b9-f8d942b089cb",
   "metadata": {},
   "outputs": [
    {
     "name": "stdout",
     "output_type": "stream",
     "text": [
      "31.5\n"
     ]
    }
   ],
   "source": [
    "def get_final_price (price, tax):\n",
    "    return price + tax\n",
    "\n",
    "price = get_final_price(30, 1.5)\n",
    "print(price)"
   ]
  },
  {
   "cell_type": "code",
   "execution_count": 52,
   "id": "e0818726-2efb-4fca-abfa-9fc2973348a9",
   "metadata": {},
   "outputs": [
    {
     "ename": "SyntaxError",
     "evalue": "unterminated string literal (detected at line 3) (364045962.py, line 3)",
     "output_type": "error",
     "traceback": [
      "\u001b[1;36m  Cell \u001b[1;32mIn[52], line 3\u001b[1;36m\u001b[0m\n\u001b[1;33m    greeting = \"Hi\u001b[0m\n\u001b[1;37m               ^\u001b[0m\n\u001b[1;31mSyntaxError\u001b[0m\u001b[1;31m:\u001b[0m unterminated string literal (detected at line 3)\n"
     ]
    }
   ],
   "source": []
  },
  {
   "cell_type": "code",
   "execution_count": 26,
   "id": "2abcefd1-75eb-44ca-9e98-720a5682ee37",
   "metadata": {},
   "outputs": [],
   "source": [
    "def get_telephone(prefix, number):\n",
    "    return prefix + number\n",
    "\n",
    "def calculate_sum(num_1, num_2):\n",
    "    return num_1 + num_2"
   ]
  },
  {
   "cell_type": "code",
   "execution_count": 28,
   "id": "0c567d6b-826a-401e-a21c-7c1065487db1",
   "metadata": {},
   "outputs": [
    {
     "name": "stdout",
     "output_type": "stream",
     "text": [
      "True\n"
     ]
    }
   ],
   "source": [
    "def is_freezing(temperature):\n",
    "    return temperature < 0\n",
    "\n",
    "freezing = is_freezing(-3)\n",
    "print(freezing)"
   ]
  },
  {
   "cell_type": "code",
   "execution_count": 48,
   "id": "0cd4d4be-a92e-4322-bfe3-60cce4371b15",
   "metadata": {
    "scrolled": true
   },
   "outputs": [
    {
     "name": "stdout",
     "output_type": "stream",
     "text": [
      "200\n"
     ]
    }
   ],
   "source": [
    "def retrieve_score():\n",
    "    return 100 + 100\n",
    "\n",
    "print(retrieve_score())"
   ]
  },
  {
   "cell_type": "markdown",
   "id": "08a0183b-e29a-4f90-9c37-c918e1ab9ff5",
   "metadata": {},
   "source": [
    "## Rock paper sissors project from mimo"
   ]
  },
  {
   "cell_type": "code",
   "execution_count": null,
   "id": "645c79fe-f2b2-4e46-a665-353b87f83cd3",
   "metadata": {},
   "outputs": [],
   "source": [
    "import random\n",
    "\n",
    "print(\"Let's play rock, paper, or scissors\")\n",
    "\n",
    "player_choice = input(\"\\nChoose rock, paper, or scissors: \").lower()\n",
    "choices = [\"rock\", \"paper\", \"scissors\"]\n",
    "computer_choice = random.choice(choices)\n",
    "print(f\"Computer chose: {computer_choice}\")\n",
    "\n",
    "if (player_choice == \"rock\" and computer_choice == \"scissors\") or (player_choice == \"scissors\" and computer_choice == \"paper\") or (player_choice == \"paper\" and computer_choice == \"rock\"):\n",
    "  winner = \"Player\"\n",
    "elif player_choice == computer_choice:\n",
    "  winner = \"Tie\"\n",
    "else:\n",
    "  winner = \"Computer\"\n",
    "\n",
    "if winner == \"Player\":\n",
    "  print(\"You won\")\n",
    "elif winner == \"Computer\":\n",
    "  print(\"Computer won\")\n",
    "else:\n",
    "  print(\"It's a tie\")"
   ]
  },
  {
   "cell_type": "markdown",
   "id": "985f4ee2-a0c8-411e-9781-22a78bbfa8b8",
   "metadata": {},
   "source": [
    "##Advanced Loop controls"
   ]
  },
  {
   "cell_type": "code",
   "execution_count": 74,
   "id": "0a51dc2a-f3e0-4f30-a6c8-dab01240c64b",
   "metadata": {},
   "outputs": [
    {
     "name": "stdout",
     "output_type": "stream",
     "text": [
      "1\n",
      "2\n",
      "3\n",
      "4\n",
      "5\n"
     ]
    }
   ],
   "source": [
    "for i in range(1, 6):\n",
    "    if i == 0:\n",
    "        continue\n",
    "    print(i)\n"
   ]
  },
  {
   "cell_type": "markdown",
   "id": "776d20ce-7ca9-4ee7-b5f3-559e01dc0c78",
   "metadata": {},
   "source": [
    "## if, else & elif"
   ]
  },
  {
   "cell_type": "code",
   "execution_count": 77,
   "id": "1e3e3892-afd4-47bf-baf2-0578ae99961e",
   "metadata": {},
   "outputs": [
    {
     "name": "stdout",
     "output_type": "stream",
     "text": [
      "Top score!\n"
     ]
    }
   ],
   "source": [
    "def show_score(score):\n",
    "    if score <30:\n",
    "        print(\"Score too low\")\n",
    "    elif score == 100:\n",
    "        print(\"Top score!\")\n",
    "    else:\n",
    "        print(\"On to the next level!\")\n",
    "show_score(100)"
   ]
  },
  {
   "cell_type": "code",
   "execution_count": 81,
   "id": "636aae17-123c-4cd0-ae65-fb0cd3ba4c3d",
   "metadata": {},
   "outputs": [
    {
     "name": "stdout",
     "output_type": "stream",
     "text": [
      "You have new messages!\n"
     ]
    }
   ],
   "source": [
    "def show_status(inbox):\n",
    "    if inbox > 1000:\n",
    "        print(\"Inbox full!\")\n",
    "    print(\"You have new messages!\")\n",
    "show_status(750)"
   ]
  },
  {
   "cell_type": "markdown",
   "id": "960c75f3-60cf-4c51-8de5-21befb5403e9",
   "metadata": {},
   "source": [
    "## Functions with list"
   ]
  },
  {
   "cell_type": "code",
   "execution_count": 86,
   "id": "39b1ee6a-059f-4686-9803-bac6b7d35e27",
   "metadata": {},
   "outputs": [
    {
     "name": "stdout",
     "output_type": "stream",
     "text": [
      "True\n"
     ]
    }
   ],
   "source": [
    "def is_multiplayer(players):\n",
    "    print(len(players) == 2)\n",
    "\n",
    "players = [\"Amy\", \"Jay\"]\n",
    "is_multiplayer(players)"
   ]
  },
  {
   "cell_type": "code",
   "execution_count": 92,
   "id": "e834ccef-7aac-4151-a243-b558f7d2e486",
   "metadata": {},
   "outputs": [
    {
     "name": "stdout",
     "output_type": "stream",
     "text": [
      "Airing tonight:\n",
      "['Alien', 'Moon']\n"
     ]
    }
   ],
   "source": [
    "def display_programme(movies):\n",
    "    print(\"Airing tonight:\")\n",
    "    print(movies)\n",
    "\n",
    "movie_list = [\"Alien\", \"Moon\"]\n",
    "display_programme(movie_list)"
   ]
  },
  {
   "cell_type": "code",
   "execution_count": 94,
   "id": "ae1b468c-2e8e-4d56-9536-4c007147f20b",
   "metadata": {},
   "outputs": [
    {
     "name": "stdout",
     "output_type": "stream",
     "text": [
      "3\n"
     ]
    }
   ],
   "source": [
    "def count_passengers(passengers):\n",
    "    print(len(passengers))\n",
    "\n",
    "passengers = [\"June\", \"Sam\", \"Lee\"]\n",
    "count_passengers(passengers)"
   ]
  },
  {
   "cell_type": "code",
   "execution_count": 104,
   "id": "ceddde20-1278-442b-bdec-497612c3aafc",
   "metadata": {},
   "outputs": [
    {
     "ename": "SyntaxError",
     "evalue": "invalid syntax (1935393624.py, line 6)",
     "output_type": "error",
     "traceback": [
      "\u001b[1;36m  Cell \u001b[1;32mIn[104], line 6\u001b[1;36m\u001b[0m\n\u001b[1;33m    leaderboard =\u001b[0m\n\u001b[1;37m                 ^\u001b[0m\n\u001b[1;31mSyntaxError\u001b[0m\u001b[1;31m:\u001b[0m invalid syntax\n"
     ]
    }
   ],
   "source": [
    "def update_first_place(leaderboard, player):\n",
    "    leaderboard[0] = player\n",
    "    return leaderboard\n",
    "\n",
    "leaderboard = [\"Jay\", \"Meg\", \"Cy\"]\n",
    "leaderboard =\n",
    "update_first_place(leaderboard, \"Lena\")"
   ]
  },
  {
   "cell_type": "code",
   "execution_count": 106,
   "id": "55cf7cb0-8849-4231-93e4-f03b72a8463c",
   "metadata": {},
   "outputs": [
    {
     "name": "stdout",
     "output_type": "stream",
     "text": [
      "['F.', 'Scott', 'Fitzgerald']\n"
     ]
    }
   ],
   "source": [
    "def set_initials(names, initial):\n",
    "    names[0] = initial\n",
    "    print(names)\n",
    "\n",
    "author_names = [\"Francis\", \"Scott\", \"Fitzgerald\"]\n",
    "set_initials(author_names, \"F.\")"
   ]
  },
  {
   "cell_type": "code",
   "execution_count": null,
   "id": "af82ca88-7068-4911-ba37-dee4768b2d73",
   "metadata": {},
   "outputs": [],
   "source": []
  }
 ],
 "metadata": {
  "kernelspec": {
   "display_name": "Python 3 (ipykernel)",
   "language": "python",
   "name": "python3"
  },
  "language_info": {
   "codemirror_mode": {
    "name": "ipython",
    "version": 3
   },
   "file_extension": ".py",
   "mimetype": "text/x-python",
   "name": "python",
   "nbconvert_exporter": "python",
   "pygments_lexer": "ipython3",
   "version": "3.11.7"
  }
 },
 "nbformat": 4,
 "nbformat_minor": 5
}
